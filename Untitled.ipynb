{
 "cells": [
  {
   "cell_type": "code",
   "execution_count": 2,
   "id": "890d70ad",
   "metadata": {},
   "outputs": [],
   "source": [
    "import pandas as pd  #read write operations on csv files that we use\n",
    "import numpy as np #deleaing numeric tasks\n",
    "import matplotlib.pyplot as plt #displat the results in graphical plot format\n",
    "%matplotlib inline\n",
    "\n"
   ]
  },
  {
   "cell_type": "code",
   "execution_count": 18,
   "id": "1c03a21a",
   "metadata": {},
   "outputs": [
    {
     "name": "stdout",
     "output_type": "stream",
     "text": [
      "(25, 2)\n",
      "           Hours     Scores\n",
      "count  25.000000  25.000000\n",
      "mean    5.012000  51.480000\n",
      "std     2.525094  25.286887\n",
      "min     1.100000  17.000000\n",
      "25%     2.700000  30.000000\n",
      "50%     4.800000  47.000000\n",
      "75%     7.400000  75.000000\n",
      "max     9.200000  95.000000\n"
     ]
    }
   ],
   "source": [
    "dataset = pd.read_csv(\"student_scores.csv\") #import the dataset\n",
    "print(dataset.shape)\n",
    "(25,2)\n",
    "\n",
    "dataset.head(5) #print top 5 rows\n",
    "print(dataset.describe()) #description about the dataset"
   ]
  },
  {
   "cell_type": "code",
   "execution_count": 19,
   "id": "97d83d24",
   "metadata": {},
   "outputs": [
    {
     "data": {
      "image/png": "[encoded data removed]",
      "text/plain": [
       "<Figure size 432x288 with 1 Axes>"
      ]
     },
     "metadata": {
      "needs_background": "light"
     },
     "output_type": "display_data"
    }
   ],
   "source": [
    "dataset.plot(x='Hours',y='Scores',style='*')\n",
    "plt.title('studet mark prediction')\n",
    "plt.xlabel('Hours')\n",
    "plt.ylabel('Scores')\n",
    "plt.show()"
   ]
  },
  {
   "cell_type": "code",
   "execution_count": 31,
   "id": "22e1d940",
   "metadata": {},
   "outputs": [
    {
     "name": "stdout",
     "output_type": "stream",
     "text": [
      "[2.5 5.1 3.2 8.5 3.5 1.5 9.2 5.5 8.3 2.7 7.7 5.9 4.5 3.3 1.1 8.9 2.5 1.9\n",
      " 6.1 7.4 2.7 4.8 3.8 6.9 7.8]\n",
      "[21 47 27 75 30 20 88 60 81 25 85 62 41 42 17 95 30 24 67 69 30 54 35 76\n",
      " 86]\n",
      "[[2.5]\n",
      " [5.1]\n",
      " [3.2]\n",
      " [8.5]\n",
      " [3.5]\n",
      " [1.5]\n",
      " [9.2]\n",
      " [5.5]\n",
      " [8.3]\n",
      " [2.7]\n",
      " [7.7]\n",
      " [5.9]\n",
      " [4.5]\n",
      " [3.3]\n",
      " [1.1]\n",
      " [8.9]\n",
      " [2.5]\n",
      " [1.9]\n",
      " [6.1]\n",
      " [7.4]\n",
      " [2.7]\n",
      " [4.8]\n",
      " [3.8]\n",
      " [6.9]\n",
      " [7.8]]\n"
     ]
    }
   ],
   "source": [
    "#here we divide the dataset into attributes and labels\n",
    "#attruibutes are independent variables and labels are dependent variables\n",
    "#this is to extract the attributes and labels\n",
    "\n",
    "#X=dataset.iloc[:,:-1].values #attributes\n",
    "#Y=dataset.iloc[:,:1].values #label\n",
    "X = dataset.iloc[:,0].values\n",
    "Y = dataset.iloc[:,1].values\n",
    "print(X)\n",
    "print(Y)\n",
    "\n",
    "array = X.reshape(-1,1)\n",
    "print (array)"
   ]
  },
  {
   "cell_type": "code",
   "execution_count": 39,
   "id": "e54b7536",
   "metadata": {},
   "outputs": [],
   "source": [
    "from sklearn.model_selection import train_test_split #to split the dataset into train and test\n",
    "\n",
    "X_train,X_test,Y_train,Y_test = train_test_split(array,Y,test_size=.2,random_state=0) #split 80% of data for training set and 20% data for testing set\n"
   ]
  },
  {
   "cell_type": "code",
   "execution_count": 40,
   "id": "8c899acb",
   "metadata": {},
   "outputs": [
    {
     "name": "stdout",
     "output_type": "stream",
     "text": [
      "2.018160041434683\n",
      "[9.91065648]\n"
     ]
    }
   ],
   "source": [
    "from sklearn.linear_model import LinearRegression #train our algorithm\n",
    "\n",
    "regressor=LinearRegression()\n",
    "regressor.fit(X_train,Y_train)\n",
    "\n",
    "print(regressor.intercept_)\n",
    "print(regressor.coef_)\n"
   ]
  },
  {
   "cell_type": "code",
   "execution_count": 41,
   "id": "188fe7ec",
   "metadata": {},
   "outputs": [
    {
     "data": {
      "text/html": [
       "<div>\n",
       "<style scoped>\n",
       "    .dataframe tbody tr th:only-of-type {\n",
       "        vertical-align: middle;\n",
       "    }\n",
       "\n",
       "    .dataframe tbody tr th {\n",
       "        vertical-align: top;\n",
       "    }\n",
       "\n",
       "    .dataframe thead th {\n",
       "        text-align: right;\n",
       "    }\n",
       "</style>\n",
       "<table border=\"1\" class=\"dataframe\">\n",
       "  <thead>\n",
       "    <tr style=\"text-align: right;\">\n",
       "      <th></th>\n",
       "      <th>Actual</th>\n",
       "      <th>Predicted</th>\n",
       "    </tr>\n",
       "  </thead>\n",
       "  <tbody>\n",
       "    <tr>\n",
       "      <th>0</th>\n",
       "      <td>[20, 27, 69, 30, 62]</td>\n",
       "      <td>[16.884144762398037, 33.73226077948984, 75.357...</td>\n",
       "    </tr>\n",
       "  </tbody>\n",
       "</table>\n",
       "</div>"
      ],
      "text/plain": [
       "                 Actual                                          Predicted\n",
       "0  [20, 27, 69, 30, 62]  [16.884144762398037, 33.73226077948984, 75.357..."
      ]
     },
     "execution_count": 41,
     "metadata": {},
     "output_type": "execute_result"
    }
   ],
   "source": [
    "Y_pred=regressor.predict(X_test)\n",
    "df=pd.DataFrame({'Actual':[Y_test],'Predicted':[Y_pred]})\n",
    "df"
   ]
  },
  {
   "cell_type": "code",
   "execution_count": null,
   "id": "90ab68d9",
   "metadata": {},
   "outputs": [],
   "source": []
  },
  {
   "cell_type": "code",
   "execution_count": null,
   "id": "d8baa15f",
   "metadata": {},
   "outputs": [],
   "source": []
  }
 ],
 "metadata": {
  "kernelspec": {
   "display_name": "Python 3",
   "language": "python",
   "name": "python3"
  },
  "language_info": {
   "codemirror_mode": {
    "name": "ipython",
    "version": 3
   },
   "file_extension": ".py",
   "mimetype": "text/x-python",
   "name": "python",
   "nbconvert_exporter": "python",
   "pygments_lexer": "ipython3",
   "version": "3.8.8"
  }
 },
 "nbformat": 4,
 "nbformat_minor": 5
}
